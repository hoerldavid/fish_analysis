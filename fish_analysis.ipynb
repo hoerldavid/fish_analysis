{
 "cells": [
  {
   "cell_type": "markdown",
   "metadata": {
    "collapsed": true
   },
   "source": [
    "# FISH spot distance determination\n",
    "\n",
    "this is a Jupyter notebook for processing of FISH images to detect spots in two channels and determining distances between them\n",
    "\n",
    "the pipeline is made of *cells* of code - to execute a cell, just click into the cell and press *Ctrl-Enter*"
   ]
  },
  {
   "cell_type": "code",
   "execution_count": null,
   "metadata": {
    "collapsed": true
   },
   "outputs": [],
   "source": [
    "from util.detection_util import read_image_stack, distance_mat\n",
    "from util.display_util import get_rgb_projected\n",
    "\n",
    "from scipy.ndimage import gaussian_laplace, maximum_filter, maximum_position, zoom\n",
    "from scipy.optimize import linear_sum_assignment\n",
    "from scipy.signal import resample\n",
    "from skimage.feature import peak_local_max\n",
    "from matplotlib import pyplot as plt\n",
    "import numpy as np\n",
    "import pandas as pd\n",
    "import os\n",
    "\n",
    "%matplotlib inline\n",
    "plt.rcParams[\"figure.figsize\"] = [10, 10]"
   ]
  },
  {
   "cell_type": "markdown",
   "metadata": {},
   "source": [
    "# load images\n",
    "\n",
    "set the folder that contains your images\n",
    "we assume that the images in the folder are named as follows:\n",
    "* Orange: o_[folder name].tif\n",
    "* Red: r_[folder name].tif\n",
    "* Blue: b_[folder name].tif"
   ]
  },
  {
   "cell_type": "code",
   "execution_count": null,
   "metadata": {
    "collapsed": false
   },
   "outputs": [],
   "source": [
    "folder = '/Volumes/tmp/Daaaaaavid/A557-13/'\n",
    "\n",
    "channel1_file = os.path.join(folder, 'o_' + folder.split(os.sep)[-2] + '.tif')\n",
    "channel2_file = os.path.join(folder, 'r_' + folder.split(os.sep)[-2] + '.tif')\n",
    "dapi_file = os.path.join(folder, 'b_' + folder.split(os.sep)[-2] + '.tif')\n",
    "\n",
    "img_channel1 = np.array(read_image_stack(channel1_file), dtype=float)\n",
    "img_channel2 = np.array(read_image_stack(channel2_file), dtype=float)\n",
    "img_dapi = np.array(read_image_stack(dapi_file), dtype=float)"
   ]
  },
  {
   "cell_type": "markdown",
   "metadata": {},
   "source": [
    "# spot detection\n",
    "\n",
    "we will now detect spots in the images.\n",
    "to do that, enter pixelsize (in the form [x,y,x]) and expected size (fwhm) of spots (some form and unit as pixelsize)\n",
    "you can also select intensity thresholds for the two channels\n",
    "* Orange: channel1\n",
    "* Red: channel2\n",
    "this will display 2 images:\n",
    "* xy-maxprojection with spots labeled\n",
    "* xz-maxprojection with spots labeled"
   ]
  },
  {
   "cell_type": "code",
   "execution_count": null,
   "metadata": {
    "collapsed": false
   },
   "outputs": [],
   "source": [
    "pixelsize = [40, 40, 300]\n",
    "expected_size = [250, 250, 500]\n",
    "\n",
    "threshold_channel1 = 25\n",
    "threshold_channel2 = 15\n",
    "\n",
    "z_resample = pixelsize[2] / pixelsize[0]\n",
    "print('z-resampling: ' + str(z_resample))\n",
    "\n",
    "sigmas = np.array(expected_size, dtype=float) / np.array(pixelsize, dtype=float) / (2. * np.sqrt(2. * np.log(2.)))\n",
    "sigmas[sigmas < 1] = 1.0\n",
    "print('sigmas: ' + str(sigmas))\n",
    "\n",
    "img_rgb = get_rgb_projected(img_channel1, img_channel2, img_dapi)\n",
    "img_rgb_xz = get_rgb_projected(img_channel1, img_channel2, img_dapi, axis=1)\n",
    "img_rgb_xz = zoom(img_rgb_xz, (1, z_resample, 1), order=1)\n",
    "\n",
    "log1 = - gaussian_laplace(img_channel1, sigmas)\n",
    "pks1 = peak_local_max(log1, threshold_abs=threshold_channel1)\n",
    "log2 = - gaussian_laplace(img_channel2, sigmas)\n",
    "pks2 = peak_local_max(log2, threshold_abs=threshold_channel2)\n",
    "\n",
    "plt.imshow(img_rgb)\n",
    "\n",
    "for i in range(len(pks1)):\n",
    "    d = pks1[i]\n",
    "    c = plt.Circle((d[1], d[0]), 8, color='lightsalmon', linewidth=1, fill=False)\n",
    "    plt.text(d[1] - 10, d[0] - 10, str(i), color='white')\n",
    "    plt.gca().add_patch(c)\n",
    "    plt.draw()\n",
    "\n",
    "for i in range(len(pks2)):\n",
    "    d = pks2[i]\n",
    "    c = plt.Circle((d[1], d[0]), 8, color='palegreen', linewidth=1, fill=False)\n",
    "    plt.text(d[1] - 10, d[0] - 10, str(i), color='palegreen')\n",
    "    plt.gca().add_patch(c)\n",
    "    plt.draw()    \n",
    "\n",
    "plt.figure()\n",
    "plt.imshow(img_rgb_xz)\n",
    "\n",
    "for i in range(len(pks1)):\n",
    "    d = pks1[i]\n",
    "    c = plt.Circle((d[2] * z_resample, d[0]), 8, color='lightsalmon', linewidth=1, fill=False)\n",
    "    plt.text(d[2] * z_resample - 10, d[0] - 10, str(i), color='white')\n",
    "    plt.gca().add_patch(c)\n",
    "    plt.draw()\n",
    "\n",
    "for i in range(len(pks2)):\n",
    "    d = pks2[i]\n",
    "    c = plt.Circle((d[2] * z_resample, d[0]), 8, color='palegreen', linewidth=1, fill=False)\n",
    "    plt.text(d[2] * z_resample - 10, d[0] - 10, str(i), color='palegreen')\n",
    "    plt.gca().add_patch(c)\n",
    "    plt.draw()    \n"
   ]
  },
  {
   "cell_type": "markdown",
   "metadata": {},
   "source": [
    "# remove detections\n",
    "\n",
    "in the cell below, you can remove detected spots by hand.\n",
    "to do that, just add the indices of the spots in the images displayed above (orange is displayed as red, red as green)\n",
    "in the respective list\n",
    "\n",
    "*NOTE:* you have to enecute the code below even if you do not want to remove spots - in that case, just leave the lists empty"
   ]
  },
  {
   "cell_type": "code",
   "execution_count": null,
   "metadata": {
    "collapsed": false
   },
   "outputs": [],
   "source": [
    "points_to_remove_channel1 = []\n",
    "points_to_remove_channel2 = [2,3]\n",
    "\n",
    "pks1i = pks1[[i for i in range(pks1.shape[0]) if i not in points_to_remove_channel1]]\n",
    "pks2i = pks2[[i for i in range(pks2.shape[0]) if i not in points_to_remove_channel2]]\n",
    "\n",
    "plt.imshow(img_rgb)\n",
    "\n",
    "for i in range(len(pks1i)):\n",
    "    d = pks1i[i]\n",
    "    c = plt.Circle((d[1], d[0]), 8, color='lightsalmon', linewidth=1, fill=False)\n",
    "    plt.text(d[1] - 10, d[0] - 10, str(i), color='white')\n",
    "    plt.gca().add_patch(c)\n",
    "    plt.draw()\n",
    "\n",
    "for i in range(len(pks2i)):\n",
    "    d = pks2i[i]\n",
    "    c = plt.Circle((d[1], d[0]), 8, color='palegreen', linewidth=1, fill=False)\n",
    "    plt.text(d[1] - 10, d[0] - 10, str(i), color='palegreen')\n",
    "    plt.gca().add_patch(c)\n",
    "    plt.draw()    \n",
    "\n",
    "plt.figure()\n",
    "plt.imshow(img_rgb_xz)\n",
    "\n",
    "for i in range(len(pks1i)):\n",
    "    d = pks1i[i]\n",
    "    c = plt.Circle((d[2] * z_resample, d[0]), 8, color='lightsalmon', linewidth=1, fill=False)\n",
    "    plt.text(d[2] * z_resample - 10, d[0] - 10, str(i), color='white')\n",
    "    plt.gca().add_patch(c)\n",
    "    plt.draw()\n",
    "\n",
    "for i in range(len(pks2i)):\n",
    "    d = pks2i[i]\n",
    "    c = plt.Circle((d[2] * z_resample, d[0]), 8, color='palegreen', linewidth=1, fill=False)\n",
    "    plt.text(d[2] * z_resample - 10, d[0] - 10, str(i), color='palegreen')\n",
    "    plt.gca().add_patch(c)\n",
    "    plt.draw()    "
   ]
  },
  {
   "cell_type": "markdown",
   "metadata": {},
   "source": [
    "# find spot pairs and display them\n",
    "we will now determine spot pairs via linear assignment and display them\n",
    "\n",
    "we have 2 manual intervention methods here:\n",
    "\n",
    "* by adding a pair of spots (as a list [idxA, idxB]) to the list lines_to_ignore, we can try to find a matching without a link between spots A and B (use indices from the output of spot filtering)\n",
    "\n",
    "* finally, we can simply discard a link by adding its index (from the output below) to lines_to_remove"
   ]
  },
  {
   "cell_type": "code",
   "execution_count": null,
   "metadata": {
    "collapsed": false
   },
   "outputs": [],
   "source": [
    "lines_to_ignore = []\n",
    "lines_to_remove = []\n",
    "\n",
    "\n",
    "cij = distance_mat(pks1i, pks2i, lines_to_ignore, np.array(pixelsize, dtype=float))\n",
    "row, col = linear_sum_assignment(cij)\n",
    "\n",
    "plt.imshow(img_rgb)\n",
    "\n",
    "for i in row:\n",
    "    if i in lines_to_remove:\n",
    "        continue\n",
    "    if not i in range(pks1i.shape[0]):\n",
    "        continue\n",
    "    if not col[i] in range(pks2i.shape[0]):\n",
    "        continue\n",
    "    p1 = pks1i[i]\n",
    "    p2 = pks2i[col[i]]\n",
    "    plt.text(p1[1] - 10, p1[0] - 10, str(i), color='white')\n",
    "    plt.plot([p1[1], p2[1]], [p1[0], p2[0]], '-', color='white', lw=2)\n",
    "    plt.draw()\n",
    "    \n",
    "plt.figure()\n",
    "plt.imshow(img_rgb_xz)\n",
    "\n",
    "for i in row:\n",
    "    if i in lines_to_remove:\n",
    "        continue\n",
    "    if not i in range(pks1i.shape[0]):\n",
    "        continue\n",
    "    if not col[i] in range(pks2i.shape[0]):\n",
    "        continue\n",
    "    p1 = pks1i[i]\n",
    "    p2 = pks2i[col[i]]\n",
    "    plt.text(p1[2] * z_resample - 10, p1[0] - 10, str(i), color='white')\n",
    "    plt.plot([p1[2] * z_resample, p2[2] * z_resample], [p1[0], p2[0]], '-', color='white', lw=2)\n",
    "    plt.draw()"
   ]
  },
  {
   "cell_type": "markdown",
   "metadata": {},
   "source": [
    "# save results\n",
    "the code below will save the results to a .csv file in the folder that was processed"
   ]
  },
  {
   "cell_type": "code",
   "execution_count": null,
   "metadata": {
    "collapsed": false
   },
   "outputs": [],
   "source": [
    "res = pd.DataFrame()\n",
    "\n",
    "xch1 = []\n",
    "xch2 = []\n",
    "ych1 = []\n",
    "ych2 = []\n",
    "zch1 = []\n",
    "zch2 = []\n",
    "\n",
    "for i in row:\n",
    "    if i in lines_to_remove:\n",
    "        continue\n",
    "    if not i in range(pks1i.shape[0]):\n",
    "        continue\n",
    "    if not col[i] in range(pks2i.shape[0]):\n",
    "        continue\n",
    "    p1 = pks1i[i] * np.array(pixelsize, dtype=float)\n",
    "    p2 = pks2i[col[i]] * np.array(pixelsize, dtype=float)\n",
    "    \n",
    "    xch1.append(p1[1])\n",
    "    xch2.append(p2[1])\n",
    "    ych1.append(p1[0])\n",
    "    ych2.append(p2[0])\n",
    "    zch1.append(p1[2])\n",
    "    zch2.append(p2[2])\n",
    "    \n",
    "res['xch1'] = xch1\n",
    "res['xch2'] = xch2\n",
    "res['ych1'] = ych1\n",
    "res['ych2'] = ych2\n",
    "res['zch1'] = zch1\n",
    "res['zch2'] = zch2\n",
    "\n",
    "res['distance'] = np.sqrt((res.xch1 - res.xch2)**2 + (res.ych1 - res.ych2)**2 + (res.zch1 - res.zch2)**2)\n",
    "\n",
    "res.to_csv(os.path.join(folder, 'result.csv'))\n",
    "res"
   ]
  }
 ],
 "metadata": {
  "kernelspec": {
   "display_name": "Python 3",
   "language": "python",
   "name": "python3"
  },
  "language_info": {
   "codemirror_mode": {
    "name": "ipython",
    "version": 3
   },
   "file_extension": ".py",
   "mimetype": "text/x-python",
   "name": "python",
   "nbconvert_exporter": "python",
   "pygments_lexer": "ipython3",
   "version": "3.5.1"
  }
 },
 "nbformat": 4,
 "nbformat_minor": 0
}
